{
  "nbformat": 4,
  "nbformat_minor": 0,
  "metadata": {
    "colab": {
      "name": "Session1 - ML .ipynb",
      "provenance": [],
      "collapsed_sections": [],
      "authorship_tag": "ABX9TyPkDphicPAMsdR5EFgO98qX"
    },
    "kernelspec": {
      "name": "python3",
      "display_name": "Python 3"
    },
    "language_info": {
      "name": "python"
    }
  },
  "cells": [
    {
      "cell_type": "code",
      "execution_count": 1,
      "metadata": {
        "colab": {
          "base_uri": "https://localhost:8080/"
        },
        "id": "NN5HpoP3zhDV",
        "outputId": "b630b6ca-327d-40e5-f590-6b17ca748f0a"
      },
      "outputs": [
        {
          "output_type": "stream",
          "name": "stdout",
          "text": [
            "hello Machine learning! :D \n"
          ]
        }
      ],
      "source": [
        "print(\"hello Machine learning! :D\")"
      ]
    },
    {
      "cell_type": "code",
      "source": [
        "# My data Set\n",
        "X = [1, 2, 3, 4, 5, 6]\n",
        "Y = [3, 5, 7, 9, 11, 13]\n",
        "\n",
        "import matplotlib.pyplot as plt\n",
        "plt.scatter(X,Y)\n",
        "plt.show()"
      ],
      "metadata": {
        "colab": {
          "base_uri": "https://localhost:8080/",
          "height": 265
        },
        "id": "uyW5XQh-zxFg",
        "outputId": "fa7cf25b-44c2-4400-ac59-cbb3eb23eda6"
      },
      "execution_count": 8,
      "outputs": [
        {
          "output_type": "display_data",
          "data": {
            "image/png": "[encoded data removed]",
            "text/plain": [
              "<Figure size 432x288 with 1 Axes>"
            ]
          },
          "metadata": {
            "needs_background": "light"
          }
        }
      ]
    },
    {
      "cell_type": "code",
      "source": [
        "# random initialize \n",
        "W = 0.5487\n",
        "B = 0.76\n",
        "\n",
        "Y_predicted =[]\n",
        "for x, y in zip(X, Y):\n",
        "  Y_predicted.append(W * x + B)\n",
        "\n",
        "print(\"the predicted Values of the random initialization : \", Y_predicted)\n",
        "\n",
        "plt.scatter(X, Y)\n",
        "plt.plot(X, Y_predicted, color ='r')"
      ],
      "metadata": {
        "colab": {
          "base_uri": "https://localhost:8080/",
          "height": 299
        },
        "id": "FNCyZFWA0d_T",
        "outputId": "aa2ff96b-2cbd-478c-8c7d-ea74e26c13f3"
      },
      "execution_count": 11,
      "outputs": [
        {
          "output_type": "stream",
          "name": "stdout",
          "text": [
            "the predicted Values of the random initialization :  [1.3087, 1.8574, 2.4061, 2.9547999999999996, 3.5035, 4.0522]\n"
          ]
        },
        {
          "output_type": "execute_result",
          "data": {
            "text/plain": [
              "[<matplotlib.lines.Line2D at 0x7ff8714178d0>]"
            ]
          },
          "metadata": {},
          "execution_count": 11
        },
        {
          "output_type": "display_data",
          "data": {
            "image/png": "[encoded data removed]",
            "text/plain": [
              "<Figure size 432x288 with 1 Axes>"
            ]
          },
          "metadata": {
            "needs_background": "light"
          }
        }
      ]
    },
    {
      "cell_type": "code",
      "source": [
        "loss_list = []\n",
        "for y, y_predicted in zip(Y, Y_predicted):\n",
        "  loss = y_predicted - y\n",
        "  loss_list.append(loss)\n",
        "\n",
        "print(\"the loss list : \", loss_list)\n",
        "# to square the losses ...\n",
        "squared_losses = []\n",
        "for loss in loss_list:\n",
        "  squared_losses.append(loss**2)\n",
        "print(\"the square loss list : \", squared_losses)\n",
        "\n",
        "cost = sum(squared_losses) / 2* len(X)\n",
        "print(\"the cost is : \", cost)"
      ],
      "metadata": {
        "colab": {
          "base_uri": "https://localhost:8080/"
        },
        "id": "_THB23pA2VFf",
        "outputId": "2c04f5be-a659-4878-fdbb-955b79ea7fec"
      },
      "execution_count": 16,
      "outputs": [
        {
          "output_type": "stream",
          "name": "stdout",
          "text": [
            "the loss list :  [-1.6913, -3.1426, -4.5939, -6.0452, -7.4965, -8.9478]\n",
            "the square loss list :  [2.86049569, 9.87593476, 21.103917209999995, 36.544443040000004, 56.19751225, 80.06312484000001]\n",
            "the cost is :  619.9362833700001\n"
          ]
        }
      ]
    },
    {
      "cell_type": "code",
      "source": [
        "# some optamization techniques happening in the background :))\n",
        "# found that the best value of w = 2 and that of b = 1"
      ],
      "metadata": {
        "id": "rfomO8-d3eGf"
      },
      "execution_count": 18,
      "outputs": []
    },
    {
      "cell_type": "code",
      "source": [
        "# random initialize \n",
        "W = 2\n",
        "B = 1\n",
        "\n",
        "Y_predicted =[]\n",
        "for x, y in zip(X, Y):\n",
        "  Y_predicted.append(W * x + B)\n",
        "\n",
        "print(\"the predicted Values of the random initialization : \", Y_predicted)\n",
        "\n",
        "plt.scatter(X, Y)\n",
        "plt.plot(X, Y_predicted, color ='r')"
      ],
      "metadata": {
        "colab": {
          "base_uri": "https://localhost:8080/",
          "height": 299
        },
        "id": "-2YSBm-C5QQi",
        "outputId": "ffd9d6b1-3efc-4b26-d8b6-11a33492c7e6"
      },
      "execution_count": 19,
      "outputs": [
        {
          "output_type": "stream",
          "name": "stdout",
          "text": [
            "the predicted Values of the random initialization :  [3, 5, 7, 9, 11, 13]\n"
          ]
        },
        {
          "output_type": "execute_result",
          "data": {
            "text/plain": [
              "[<matplotlib.lines.Line2D at 0x7ff871494110>]"
            ]
          },
          "metadata": {},
          "execution_count": 19
        },
        {
          "output_type": "display_data",
          "data": {
            "image/png": "[encoded data removed]",
            "text/plain": [
              "<Figure size 432x288 with 1 Axes>"
            ]
          },
          "metadata": {
            "needs_background": "light"
          }
        }
      ]
    }
  ]
}